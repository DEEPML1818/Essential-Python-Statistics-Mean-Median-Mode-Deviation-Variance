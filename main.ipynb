{
 "cells": [
  {
   "cell_type": "code",
   "execution_count": null,
   "metadata": {},
   "outputs": [],
   "source": [
    "from statistics import mean\n",
    "\n",
    "data = [1, 2, 3, 4, 5]\n",
    "result = mean(data)\n",
    "print(\"Mean:\", result)"
   ]
  },
  {
   "cell_type": "code",
   "execution_count": null,
   "metadata": {},
   "outputs": [],
   "source": [
    "from statistics import median\n",
    "\n",
    "data = [1, 2, 3, 4, 5]\n",
    "result = median(data)\n",
    "print(\"Median:\", result)"
   ]
  },
  {
   "cell_type": "code",
   "execution_count": null,
   "metadata": {},
   "outputs": [],
   "source": [
    "from statistics import mode\n",
    "\n",
    "data = [1, 2, 2, 3, 3, 3, 4]\n",
    "result = mode(data)\n",
    "print(\"Mode:\", result)"
   ]
  },
  {
   "cell_type": "code",
   "execution_count": null,
   "metadata": {},
   "outputs": [],
   "source": [
    "from statistics import stdev\n",
    "\n",
    "data = [1, 2, 3, 4, 5]\n",
    "result = stdev(data)\n",
    "print(\"Standard Deviation:\", result)"
   ]
  },
  {
   "cell_type": "code",
   "execution_count": null,
   "metadata": {},
   "outputs": [],
   "source": [
    "from statistics import variance\n",
    "\n",
    "data = [1, 2, 3, 4, 5]\n",
    "result = variance(data)\n",
    "print(\"Variance:\", result)"
   ]
  }
 ],
 "metadata": {
  "language_info": {
   "name": "python"
  },
  "orig_nbformat": 4
 },
 "nbformat": 4,
 "nbformat_minor": 2
}
